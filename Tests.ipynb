{
 "cells": [
  {
   "cell_type": "code",
   "execution_count": 2,
   "metadata": {},
   "outputs": [],
   "source": [
    "from amino_acids import aa, codons, aa_table\n",
    "import random\n",
    "import doctest"
   ]
  },
  {
   "cell_type": "code",
   "execution_count": null,
   "metadata": {},
   "outputs": [],
   "source": [
    "aa[0]"
   ]
  },
  {
   "cell_type": "code",
   "execution_count": null,
   "metadata": {},
   "outputs": [],
   "source": [
    "codons[10]"
   ]
  },
  {
   "cell_type": "code",
   "execution_count": null,
   "metadata": {},
   "outputs": [],
   "source": [
    "aa_table"
   ]
  },
  {
   "cell_type": "code",
   "execution_count": null,
   "metadata": {},
   "outputs": [],
   "source": [
    "myString = \"asjh\"\n",
    "for character in myString:\n",
    "    print(character)"
   ]
  },
  {
   "cell_type": "code",
   "execution_count": null,
   "metadata": {},
   "outputs": [],
   "source": [
    "' '.join(random.sample(myString, len(myString)))"
   ]
  },
  {
   "cell_type": "code",
   "execution_count": 3,
   "metadata": {},
   "outputs": [],
   "source": [
    "def get_complement(nucleotide):\n",
    "    completment_list = {'A':'T','C':'G', 'G':'C', 'T':'A'}\n",
    "    return completment_list[nucleotide.upper()]"
   ]
  },
  {
   "cell_type": "code",
   "execution_count": null,
   "metadata": {},
   "outputs": [],
   "source": [
    "get_complement('C')"
   ]
  },
  {
   "cell_type": "code",
   "execution_count": 4,
   "metadata": {},
   "outputs": [],
   "source": [
    "def get_reverse_complement(dna):\n",
    "    \"\"\" Computes the reverse complementary sequence of DNA for the specfied DNA\n",
    "        sequence\n",
    "\n",
    "        dna: a DNA sequence represented as a string\n",
    "        returns: the reverse complementary DNA sequence represented as a string\n",
    "    >>> get_reverse_complement(\"ATGCCCGCTTT\")\n",
    "    'AAAGCGGGCAT'\n",
    "    >>> get_reverse_complement(\"CCGCGTTCA\")\n",
    "    'TGAACGCGG'\n",
    "    \"\"\"\n",
    "    reverse_complement = ''\n",
    "    for nucleotide in dna:\n",
    "        reverse_complement += get_complement(nucleotide)\n",
    "    return reverse_complement[::-1]"
   ]
  },
  {
   "cell_type": "code",
   "execution_count": null,
   "metadata": {},
   "outputs": [],
   "source": [
    "get_reverse_complement(\"ATGCCCGCTTT\")"
   ]
  },
  {
   "cell_type": "code",
   "execution_count": null,
   "metadata": {},
   "outputs": [],
   "source": [
    "MYsTRING = \"ATGCCCGCTTT\""
   ]
  },
  {
   "cell_type": "code",
   "execution_count": null,
   "metadata": {},
   "outputs": [],
   "source": [
    "MYsTRING.find('ATG')\n",
    "i = 0\n",
    "while i < len(MYsTRING):\n",
    "    old_i = i\n",
    "    i += 3\n",
    "    print(MYsTRING[old_i:i:1])"
   ]
  },
  {
   "cell_type": "code",
   "execution_count": 5,
   "metadata": {},
   "outputs": [],
   "source": [
    "start_codon = codons[3][0]\n",
    "stop_codon = codons[10]\n",
    "\n",
    "def rest_of_ORF(dna):\n",
    "    \"\"\" Takes a DNA sequence that is assumed to begin with a start\n",
    "        codon and returns the sequence up to but not including the\n",
    "        first in frame stop codon.  If there is no in frame stop codon,\n",
    "        returns the whole string.\n",
    "\n",
    "        dna: a DNA sequence\n",
    "        returns: the open reading frame represented as a string\n",
    "    >>> rest_of_ORF(\"ATGTGAA\")\n",
    "    'ATG'\n",
    "    >>> rest_of_ORF(\"ATGAGATAGG\")\n",
    "    'ATGAGA'\n",
    "    \"\"\"\n",
    "    i = 0\n",
    "    ORF = ''\n",
    "    while i < len(dna):\n",
    "        old_i = i\n",
    "        i += 3\n",
    "        temp = dna[old_i:i:1]\n",
    "        if temp == stop_codon[0] or temp == stop_codon[1] or temp == stop_codon[2]:\n",
    "            return ORF\n",
    "#         elif temp == start_codon:\n",
    "#             return ORF, old_i\n",
    "        else:\n",
    "            ORF += temp\n",
    "    return ORF\n",
    "\n",
    "# import doctest\n",
    "# doctest.testmod(verbose=True)"
   ]
  },
  {
   "cell_type": "code",
   "execution_count": null,
   "metadata": {},
   "outputs": [],
   "source": [
    "rest_of_ORF(\"ATGCATGAATGTAGATAGATGTGCCC\")"
   ]
  },
  {
   "cell_type": "code",
   "execution_count": null,
   "metadata": {},
   "outputs": [],
   "source": [
    "newString = 'ATGCATGCGT'\n",
    "newString[3:].find('ATG')"
   ]
  },
  {
   "cell_type": "code",
   "execution_count": null,
   "metadata": {},
   "outputs": [],
   "source": [
    "myList = ['hello']\n",
    "a = 'well'\n",
    "myList.append(a)\n",
    "myList"
   ]
  },
  {
   "cell_type": "code",
   "execution_count": 6,
   "metadata": {},
   "outputs": [
    {
     "data": {
      "text/plain": [
       "TestResults(failed=0, attempted=5)"
      ]
     },
     "execution_count": 6,
     "metadata": {},
     "output_type": "execute_result"
    }
   ],
   "source": [
    "def find_all_ORFs_oneframe(dna):\n",
    "    \"\"\" Finds all non-nested open reading frames in the given DNA\n",
    "        sequence and returns them as a list.  This function should\n",
    "        only find ORFs that are in the default frame of the sequence\n",
    "        (i.e. they start on indices that are multiples of 3).\n",
    "        By non-nested we mean that if an ORF occurs entirely within\n",
    "        another ORF, it should not be included in the returned list of ORFs.\n",
    "\n",
    "        dna: a DNA sequence\n",
    "        returns: a list of non-nested ORFs\n",
    "    >>> find_all_ORFs_oneframe(\"ATGCATGAATGTAGATAGATGTGCCC\")\n",
    "    ['ATGCATGAATGTAGA', 'ATGTGCCC']\n",
    "    \"\"\"\n",
    "    ORF_list = []\n",
    "    #all_frame_found = False\n",
    "    base_frame = dna\n",
    "    base_frame_num = dna.find(start_codon)\n",
    "    \n",
    "    while base_frame_num % 3 != 0:\n",
    "        base_frame = base_frame[3:]\n",
    "        base_frame_num = base_frame.find(start_codon)\n",
    "\n",
    "        \n",
    "    #i = 1\n",
    "    while 1:\n",
    "        if base_frame_num < 0:\n",
    "            break\n",
    "        \n",
    "        full_frame = rest_of_ORF(base_frame[base_frame_num:])\n",
    "        #print(base_frame_num)\n",
    "        ORF_list.append(full_frame)\n",
    "        #print(base_frame_num, end=' ')\n",
    "        next_ATG_loc = base_frame[len(full_frame):].find(start_codon)\n",
    "        #print(i, ORF_list)\n",
    "        if (next_ATG_loc % 3) != 0 or next_ATG_loc == -1:\n",
    "            #all_frame_found = True\n",
    "            break\n",
    "        else:\n",
    "            base_frame = base_frame[len(full_frame)+3:]\n",
    "            #print(base_frame)\n",
    "            base_frame_num = next_ATG_loc-3\n",
    "        #i += 1;\n",
    "    \n",
    "    return ORF_list\n",
    "\n",
    "doctest.testmod(verbose=False)"
   ]
  },
  {
   "cell_type": "code",
   "execution_count": null,
   "metadata": {},
   "outputs": [],
   "source": [
    "find_all_ORFs_oneframe(\"ATGCATGAATGTAGATAGATGTGCCC\")"
   ]
  },
  {
   "cell_type": "code",
   "execution_count": null,
   "metadata": {},
   "outputs": [],
   "source": [
    "len(find_all_ORFs_oneframe(\"ATGCATGAATGTAGATAGATGTGCCC\"))\n",
    "myString = \"ATGCATGAATGTAGATAGATGTGCCC\"\n",
    "myString[2:]"
   ]
  },
  {
   "cell_type": "code",
   "execution_count": 8,
   "metadata": {},
   "outputs": [
    {
     "data": {
      "text/plain": [
       "TestResults(failed=0, attempted=6)"
      ]
     },
     "execution_count": 8,
     "metadata": {},
     "output_type": "execute_result"
    }
   ],
   "source": [
    "def find_all_ORFs(dna):\n",
    "    \"\"\" Finds all non-nested open reading frames in the given DNA sequence in\n",
    "        all 3 possible frames and returns them as a list.  By non-nested we\n",
    "        mean that if an ORF occurs entirely within another ORF and they are\n",
    "        both in the same frame, it should not be included in the returned list\n",
    "        of ORFs.\n",
    "\n",
    "        dna: a DNA sequence\n",
    "        returns: a list of non-nested ORFs\n",
    "\n",
    "    >>> find_all_ORFs(\"ATGCATGAATGTAG\")\n",
    "    ['ATGCATGAATGTAG', 'ATGAATGTAG', 'ATG']\n",
    "    \"\"\"\n",
    "    all_ORF = []\n",
    "    for i in range(3):\n",
    "        temp_one_frame = find_all_ORFs_oneframe(dna[i:])\n",
    "        for y in range(len(temp_one_frame)):\n",
    "            all_ORF.append(temp_one_frame[y])\n",
    "            #print(all_ORF)\n",
    "        #all_ORF.\n",
    "        # Temporary fix by removing the last element which is Null\n",
    "    return all_ORF\n",
    "\n",
    "doctest.testmod(verbose=False)"
   ]
  },
  {
   "cell_type": "code",
   "execution_count": null,
   "metadata": {},
   "outputs": [],
   "source": [
    "find_all_ORFs(\"ATGCATGAATGTAG\")"
   ]
  },
  {
   "cell_type": "code",
   "execution_count": null,
   "metadata": {},
   "outputs": [],
   "source": [
    "for i in range(3):\n",
    "    print(i)"
   ]
  },
  {
   "cell_type": "code",
   "execution_count": null,
   "metadata": {},
   "outputs": [],
   "source": [
    "a = 'ATGCATGAATGTAG'\n",
    "find_all_ORFs_oneframe(a[2:])"
   ]
  },
  {
   "cell_type": "code",
   "execution_count": null,
   "metadata": {},
   "outputs": [],
   "source": [
    "a[2:]"
   ]
  },
  {
   "cell_type": "code",
   "execution_count": null,
   "metadata": {},
   "outputs": [],
   "source": [
    "rest_of_ORF('GCATGAATGTAG')"
   ]
  },
  {
   "cell_type": "code",
   "execution_count": null,
   "metadata": {},
   "outputs": [],
   "source": [
    "b = 'ATGTAG'\n",
    "b[6:].find('ATG')"
   ]
  },
  {
   "cell_type": "code",
   "execution_count": null,
   "metadata": {},
   "outputs": [],
   "source": [
    "-1 % 3"
   ]
  },
  {
   "cell_type": "code",
   "execution_count": null,
   "metadata": {},
   "outputs": [],
   "source": []
  }
 ],
 "metadata": {
  "kernelspec": {
   "display_name": "Python 3",
   "language": "python",
   "name": "python3"
  },
  "language_info": {
   "codemirror_mode": {
    "name": "ipython",
    "version": 3
   },
   "file_extension": ".py",
   "mimetype": "text/x-python",
   "name": "python",
   "nbconvert_exporter": "python",
   "pygments_lexer": "ipython3",
   "version": "3.6.3"
  }
 },
 "nbformat": 4,
 "nbformat_minor": 2
}
