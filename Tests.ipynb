{
 "cells": [
  {
   "cell_type": "code",
   "execution_count": 1,
   "metadata": {},
   "outputs": [],
   "source": [
    "from amino_acids import aa, codons, aa_table\n",
    "import random\n",
    "import doctest"
   ]
  },
  {
   "cell_type": "code",
   "execution_count": 2,
   "metadata": {},
   "outputs": [],
   "source": [
    "# A dictionary for returning the complements\n",
    "completment_list = {'A':'T','C':'G', 'G':'C', 'T':'A'}\n",
    "def get_complement(nucleotide):\n",
    "    return completment_list[nucleotide.upper()]"
   ]
  },
  {
   "cell_type": "code",
   "execution_count": 3,
   "metadata": {},
   "outputs": [
    {
     "data": {
      "text/plain": [
       "'G'"
      ]
     },
     "execution_count": 3,
     "metadata": {},
     "output_type": "execute_result"
    }
   ],
   "source": [
    "get_complement('C')"
   ]
  },
  {
   "cell_type": "code",
   "execution_count": 4,
   "metadata": {},
   "outputs": [
    {
     "data": {
      "text/plain": [
       "TestResults(failed=0, attempted=2)"
      ]
     },
     "execution_count": 4,
     "metadata": {},
     "output_type": "execute_result"
    }
   ],
   "source": [
    "def get_reverse_complement(dna):\n",
    "    \"\"\" Computes the reverse complementary sequence of DNA for the specfied DNA\n",
    "        sequence\n",
    "\n",
    "        dna: a DNA sequence represented as a string\n",
    "        returns: the reverse complementary DNA sequence represented as a string\n",
    "    >>> get_reverse_complement(\"ATGCCCGCTTT\")\n",
    "    'AAAGCGGGCAT'\n",
    "    >>> get_reverse_complement(\"CCGCGTTCA\")\n",
    "    'TGAACGCGG'\n",
    "    \"\"\"\n",
    "    # Create a empty string to hold the reverse complement\n",
    "    reverse_complement = ''\n",
    "    \n",
    "    # Add the nucleotide complements to the reverse complement string\n",
    "    for nucleotide in dna:\n",
    "        reverse_complement += get_complement(nucleotide)\n",
    "    return reverse_complement[::-1]\n",
    "\n",
    "doctest.testmod(verbose = False)"
   ]
  },
  {
   "cell_type": "code",
   "execution_count": 5,
   "metadata": {},
   "outputs": [
    {
     "data": {
      "text/plain": [
       "TestResults(failed=0, attempted=4)"
      ]
     },
     "execution_count": 5,
     "metadata": {},
     "output_type": "execute_result"
    }
   ],
   "source": [
    "start_codon = codons[3][0]\n",
    "stop_codon = codons[10]\n",
    "\n",
    "def rest_of_ORF(dna):\n",
    "    \"\"\" Takes a DNA sequence that is assumed to begin with a start\n",
    "        codon and returns the sequence up to but not including the\n",
    "        first in frame stop codon.  If there is no in frame stop codon,\n",
    "        returns the whole string.\n",
    "\n",
    "        dna: a DNA sequence\n",
    "        returns: the open reading frame represented as a string\n",
    "    >>> rest_of_ORF(\"ATGTGAA\")\n",
    "    'ATG'\n",
    "    >>> rest_of_ORF(\"ATGAGATAGG\")\n",
    "    'ATGAGA'\n",
    "    \"\"\"\n",
    "    i = 0\n",
    "    ORF = ''\n",
    "    \n",
    "    # As long as the current position of the curser is not beyond the dna length,\n",
    "    # read three as a group until hit a stop codon\n",
    "    while i < len(dna):\n",
    "        #print(dna)\n",
    "        # Save the current i as the index to start recording 3 necleuctides\n",
    "        old_i = i\n",
    "        # Add 3 to i to get the end index\n",
    "        i += 3\n",
    "        # store the 3 necleuctides as one in a temporary variable\n",
    "        temp = dna[old_i:i:1]\n",
    "        \n",
    "        # check if the codon is a stop codon, return the ORF as is; otherwise\n",
    "        # keep adding codons to the ORF\n",
    "        if temp == stop_codon[0] or temp == stop_codon[1] or temp == stop_codon[2]:\n",
    "            return ORF\n",
    "        else:\n",
    "            ORF += temp\n",
    "    return ORF\n",
    "\n",
    "doctest.testmod(verbose=False)"
   ]
  },
  {
   "cell_type": "code",
   "execution_count": 6,
   "metadata": {},
   "outputs": [
    {
     "data": {
      "text/plain": [
       "TestResults(failed=0, attempted=5)"
      ]
     },
     "execution_count": 6,
     "metadata": {},
     "output_type": "execute_result"
    }
   ],
   "source": [
    "def find_all_ORFs_oneframe(dna):\n",
    "    \"\"\" Finds all non-nested open reading frames in the given DNA\n",
    "        sequence and returns them as a list.  This function should\n",
    "        only find ORFs that are in the default frame of the sequence\n",
    "        (i.e. they start on indices that are multiples of 3).\n",
    "        By non-nested we mean that if an ORF occurs entirely within\n",
    "        another ORF, it should not be included in the returned list of ORFs.\n",
    "\n",
    "        dna: a DNA sequence\n",
    "        returns: a list of non-nested ORFs\n",
    "    >>> find_all_ORFs_oneframe(\"ATGCATGAATGTAGATAGATGTGCCC\")\n",
    "    ['ATGCATGAATGTAGA', 'ATGTGCCC']\n",
    "    \"\"\"\n",
    "    checked = False\n",
    "    ORF_list = []\n",
    "    # base_frame is the base from which to look for a starting codon\n",
    "    base_frame = dna\n",
    "    # base_frame_num is the starting index for a start codon\n",
    "    base_frame_num = base_frame.find(start_codon)\n",
    "    \n",
    "    # Making sure that the frames stay in sync by making sure the ATG location\n",
    "    # can be divided by three\n",
    "    #print(base_frame_num)\n",
    "    \n",
    "    if base_frame_num % 3 != 0:\n",
    "        while 1:\n",
    "            #print(i)\n",
    "            \n",
    "            base_frame_num += 3\n",
    "            temp_frame = base_frame[base_frame_num:]\n",
    "#             print(temp_frame)\n",
    "            temp_num = temp_frame.find(start_codon)\n",
    "#             print(temp_num)\n",
    "            if temp_num == -1:\n",
    "                    return\n",
    "            base_frame_num += temp_num\n",
    "            #print(base_frame_num)\n",
    "            if base_frame_num % 3 == 0:\n",
    "                base_frame = base_frame[base_frame_num:]\n",
    "                #print(base_frame)\n",
    "                checked = True\n",
    "                break\n",
    "            \n",
    "\n",
    "        \n",
    "    # Keep looking for an ORF until when there's no more to read or when it\n",
    "    # would be a frame out of the original sync\n",
    "    while 1:\n",
    "        # base_frame_num would be negative when there is no starting codon to\n",
    "        # be found, in this case, the loop should break and allow the function\n",
    "        # to return the ORF collected up to this point\n",
    "        if base_frame_num < 0:\n",
    "            break\n",
    "#         Get one full frame from rest_of_ORF() and append it to the ORF_list\n",
    "#         print(base_frame[base_frame_num:], ' Hello')\n",
    "        if checked:\n",
    "            full_frame = rest_of_ORF(base_frame)\n",
    "        else:\n",
    "            full_frame = rest_of_ORF(base_frame[base_frame_num:])\n",
    "#         print(full_frame)\n",
    "#         print(full_frame)\n",
    "        ORF_list.append(full_frame)\n",
    "        # Look for the next ATG index from a base_frame with the previously\n",
    "        # found full_frame removed from the start\n",
    "        next_ATG_loc = base_frame[len(full_frame):].find(start_codon)\n",
    "        # if the index of the next ATG is not divisible by 3 (meaning that\n",
    "        # the new start codon isn't in sync with the previuos one), then\n",
    "        # break from the looking for another ORF\n",
    "        if (next_ATG_loc % 3) != 0:\n",
    "            break\n",
    "        else:\n",
    "            base_frame = base_frame[len(full_frame)+3:]\n",
    "            #print(base_frame)\n",
    "            base_frame_num = next_ATG_loc-3\n",
    "    \n",
    "    return ORF_list\n",
    "\n",
    "doctest.testmod(verbose=False)"
   ]
  },
  {
   "cell_type": "code",
   "execution_count": 7,
   "metadata": {},
   "outputs": [
    {
     "data": {
      "text/plain": [
       "TestResults(failed=0, attempted=6)"
      ]
     },
     "execution_count": 7,
     "metadata": {},
     "output_type": "execute_result"
    }
   ],
   "source": [
    "def find_all_ORFs(dna):\n",
    "    \"\"\" Finds all non-nested open reading frames in the given DNA sequence in\n",
    "        all 3 possible frames and returns them as a list.  By non-nested we\n",
    "        mean that if an ORF occurs entirely within another ORF and they are\n",
    "        both in the same frame, it should not be included in the returned list\n",
    "        of ORFs.\n",
    "\n",
    "        dna: a DNA sequence\n",
    "        returns: a list of non-nested ORFs\n",
    "\n",
    "    >>> find_all_ORFs(\"ATGCATGAATGTAG\")\n",
    "    ['ATGCATGAATGTAG', 'ATGAATGTAG', 'ATG']\n",
    "    \"\"\"\n",
    "    all_ORF = []\n",
    "    # Loop through the possibilities of a starting codon being on the multiples\n",
    "    # of 0, 1, 2 index\n",
    "    for i in range(3):\n",
    "#         print(dna[i:])\n",
    "        temp_all_frame = find_all_ORFs_oneframe(dna[i:])\n",
    "        # In case that there are more than just one frame in one find_all,\n",
    "        # append individual ones to the list with the for loop\n",
    "        if temp_all_frame != None:\n",
    "            for y in range(len(temp_all_frame)):\n",
    "                all_ORF.append(temp_all_frame[y])\n",
    "            \n",
    "    return all_ORF\n",
    "\n",
    "doctest.testmod(verbose=False)"
   ]
  },
  {
   "cell_type": "code",
   "execution_count": 8,
   "metadata": {},
   "outputs": [
    {
     "data": {
      "text/plain": [
       "TestResults(failed=0, attempted=7)"
      ]
     },
     "execution_count": 8,
     "metadata": {},
     "output_type": "execute_result"
    }
   ],
   "source": [
    "def find_all_ORFs_both_strands(dna):\n",
    "    \"\"\" Finds all non-nested open reading frames in the given DNA sequence on both\n",
    "        strands.\n",
    "\n",
    "        dna: a DNA sequence\n",
    "        returns: a list of non-nested ORFs\n",
    "    >>> find_all_ORFs_both_strands(\"ATGCGAATGTAGCATCAAA\")\n",
    "    ['ATGCGAATG', 'ATGCTACATTCGCAT']\n",
    "    \"\"\"\n",
    "    ORF_both = []\n",
    "    dna_complement = get_reverse_complement(dna)\n",
    "    original_ORF = find_all_ORFs(dna)\n",
    "    complement_ORF = find_all_ORFs(dna_complement)\n",
    "    for i in range(len(original_ORF)):\n",
    "        ORF_both.append(original_ORF[i])\n",
    "    for i in range(len(complement_ORF)):\n",
    "        ORF_both.append(complement_ORF[i])\n",
    "    return ORF_both\n",
    "\n",
    "doctest.testmod(verbose = False)"
   ]
  },
  {
   "cell_type": "code",
   "execution_count": 9,
   "metadata": {},
   "outputs": [
    {
     "data": {
      "text/plain": [
       "[0, 1, 4, 9, 16, 25, 36, 49, 64, 81]"
      ]
     },
     "execution_count": 9,
     "metadata": {},
     "output_type": "execute_result"
    }
   ],
   "source": [
    "squares = [x**2 for x in range(10)]\n",
    "squares"
   ]
  },
  {
   "cell_type": "markdown",
   "metadata": {},
   "source": [
    "# Week Two Stuff"
   ]
  },
  {
   "cell_type": "code",
   "execution_count": 10,
   "metadata": {},
   "outputs": [],
   "source": [
    "def longest_ORF(dna):\n",
    "    \"\"\" Finds the longest ORF on both strands of the specified DNA and returns it\n",
    "        as a string\n",
    "    >>> longest_ORF(\"ATGCGAATGTAGCATCAAA\")\n",
    "    'ATGCTACATTCGCAT'\n",
    "    \"\"\"\n",
    "    ORF_both = find_all_ORFs_both_strands(dna)\n",
    "    longest_length = 0\n",
    "    longest_length_index = None\n",
    "    for i in range(len(ORF_both)):\n",
    "        if len(ORF_both[i]) > longest_length:\n",
    "            longest_length_index = i\n",
    "            longest_length = len(ORF_both[i])\n",
    "    if longest_length_index == None:\n",
    "        return '0'\n",
    "    else:\n",
    "        return ORF_both[longest_length_index]"
   ]
  },
  {
   "cell_type": "code",
   "execution_count": 11,
   "metadata": {},
   "outputs": [
    {
     "data": {
      "text/plain": [
       "'ATGCTACATTCGCAT'"
      ]
     },
     "execution_count": 11,
     "metadata": {},
     "output_type": "execute_result"
    }
   ],
   "source": [
    "longest_ORF(\"ATGCGAATGTAGCATCAAA\")"
   ]
  },
  {
   "cell_type": "code",
   "execution_count": 12,
   "metadata": {},
   "outputs": [],
   "source": [
    "import multiprocessing as mp\n",
    "import random\n",
    "import string\n",
    "\n",
    "def longest_ORF_noncoding(dna, num_trials):\n",
    "    \"\"\" Computes the maximum length of the longest ORF over num_trials shuffles\n",
    "        of the specfied DNA sequence\n",
    "\n",
    "        dna: a DNA sequence\n",
    "        num_trials: the number of random shuffles\n",
    "        returns: the maximum length longest ORF \"\"\"\n",
    "    \n",
    "    random.seed()\n",
    "\n",
    "    # Define an output queue\n",
    "    output = mp.Queue()\n",
    "\n",
    "    def rand_dna(dna, output):\n",
    "        \"\"\" Generates a random string of numbers, lower- and uppercase chars. \"\"\"\n",
    "        length = len(dna)\n",
    "        rand_str = ''.join(random.sample(dna, length))\n",
    "        rand_str = longest_ORF(rand_str)\n",
    "        output.put(rand_str)\n",
    "\n",
    "    # Setup a list of processes that we want to run\n",
    "    shuffle_process = [mp.Process(target=rand_dna, args=(dna, output)) for num in range(num_trials)]\n",
    "\n",
    "    # Run processes\n",
    "    for p in shuffle_process:\n",
    "        p.start()\n",
    "\n",
    "    # Exit the completed processes\n",
    "    for p in shuffle_process:\n",
    "        p.join()\n",
    "\n",
    "    # Get process results from the output queue\n",
    "    results = [output.get() for p in shuffle_process]\n",
    "    \n",
    "    return max(results)\n"
   ]
  },
  {
   "cell_type": "code",
   "execution_count": 18,
   "metadata": {},
   "outputs": [
    {
     "name": "stdout",
     "output_type": "stream",
     "text": [
      "CPU times: user 325 ms, sys: 1.16 s, total: 1.49 s\n",
      "Wall time: 1.41 s\n"
     ]
    },
    {
     "data": {
      "text/plain": [
       "'ATGTTTTTTACTAGCTCTCAATTTG'"
      ]
     },
     "execution_count": 18,
     "metadata": {},
     "output_type": "execute_result"
    }
   ],
   "source": [
    "%time longest_ORF_noncoding(\"AAGTCCAAATAGTGAGATCAAGTCCAAATAGTGAGATCAAGTCCAAATAGTGAGATC\", 800)"
   ]
  },
  {
   "cell_type": "code",
   "execution_count": 14,
   "metadata": {},
   "outputs": [
    {
     "name": "stdout",
     "output_type": "stream",
     "text": [
      "['LVnVZ', 'GGhYf', 'x7Dkz', 'FKDOx', 'H1AR2', 'pf2Xy']\n"
     ]
    }
   ],
   "source": [
    "import multiprocessing as mp\n",
    "import random\n",
    "import string\n",
    "\n",
    "random.seed()\n",
    "\n",
    "# Define an output queue\n",
    "output = mp.Queue()\n",
    "\n",
    "# define a example function\n",
    "def rand_string(length, output):\n",
    "    \"\"\" Generates a random string of numbers, lower- and uppercase chars. \"\"\"\n",
    "    rand_str = ''.join(random.choice(\n",
    "                        string.ascii_lowercase\n",
    "                        + string.ascii_uppercase\n",
    "                        + string.digits)\n",
    "                   for i in range(length))\n",
    "    output.put(rand_str)\n",
    "\n",
    "# Setup a list of processes that we want to run\n",
    "processes = [mp.Process(target=rand_string, args=(5, output)) for x in range(6)]\n",
    "\n",
    "# Run processes\n",
    "for p in processes:\n",
    "    p.start()\n",
    "\n",
    "# Exit the completed processes\n",
    "for p in processes:\n",
    "    p.join()\n",
    "\n",
    "# Get process results from the output queue\n",
    "results = [output.get() for p in processes]\n",
    "\n",
    "print(results)"
   ]
  },
  {
   "cell_type": "code",
   "execution_count": null,
   "metadata": {},
   "outputs": [],
   "source": []
  },
  {
   "cell_type": "code",
   "execution_count": 15,
   "metadata": {},
   "outputs": [
    {
     "name": "stdout",
     "output_type": "stream",
     "text": [
      "['ATGACTTCGAAGAA', 'ATGTCGAAAAAC', '0', 'ATGCAAGTTCAAGTA', 'ATG']\n"
     ]
    }
   ],
   "source": [
    "random.seed()\n",
    "\n",
    "# Define an output queue\n",
    "output = mp.Queue()\n",
    "\n",
    "dna_dna = \"ATGCGAATGTAGCATCAAA\"\n",
    "\n",
    "def rand_dna(dna, output):\n",
    "    \"\"\" Generates a random string of numbers, lower- and uppercase chars. \"\"\"\n",
    "    length = len(dna)\n",
    "    rand_str = ''.join(random.sample(dna, length))\n",
    "    rand_str = longest_ORF(rand_str)\n",
    "    output.put(rand_str)\n",
    "\n",
    "# Setup a list of processes that we want to run\n",
    "processes = [mp.Process(target=rand_dna, args=(dna_dna, output)) for x in range(5)]\n",
    "\n",
    "# Run processes\n",
    "for p in processes:\n",
    "    p.start()\n",
    "\n",
    "# Exit the completed processes\n",
    "for p in processes:\n",
    "    p.join()\n",
    "\n",
    "# Get process results from the output queue\n",
    "results = [output.get() for p in processes]\n",
    "\n",
    "print(results)"
   ]
  },
  {
   "cell_type": "code",
   "execution_count": 16,
   "metadata": {},
   "outputs": [
    {
     "name": "stdout",
     "output_type": "stream",
     "text": [
      "ATGCATGAAATCAAAGC\n"
     ]
    }
   ],
   "source": [
    "rand_dna(dna_dna, output)\n",
    "print(output.get())"
   ]
  },
  {
   "cell_type": "code",
   "execution_count": null,
   "metadata": {},
   "outputs": [],
   "source": []
  }
 ],
 "metadata": {
  "kernelspec": {
   "display_name": "Python 3",
   "language": "python",
   "name": "python3"
  },
  "language_info": {
   "codemirror_mode": {
    "name": "ipython",
    "version": 3
   },
   "file_extension": ".py",
   "mimetype": "text/x-python",
   "name": "python",
   "nbconvert_exporter": "python",
   "pygments_lexer": "ipython3",
   "version": "3.6.3"
  }
 },
 "nbformat": 4,
 "nbformat_minor": 2
}
