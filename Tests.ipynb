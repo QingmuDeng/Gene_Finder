{
 "cells": [
  {
   "cell_type": "code",
   "execution_count": 2,
   "metadata": {},
   "outputs": [],
   "source": [
    "from amino_acids import aa, codons, aa_table\n",
    "import random\n",
    "import doctest"
   ]
  },
  {
   "cell_type": "code",
   "execution_count": null,
   "metadata": {},
   "outputs": [],
   "source": [
    "aa[0]"
   ]
  },
  {
   "cell_type": "code",
   "execution_count": null,
   "metadata": {},
   "outputs": [],
   "source": [
    "codons[10]"
   ]
  },
  {
   "cell_type": "code",
   "execution_count": null,
   "metadata": {},
   "outputs": [],
   "source": [
    "aa_table"
   ]
  },
  {
   "cell_type": "code",
   "execution_count": null,
   "metadata": {},
   "outputs": [],
   "source": [
    "myString = \"asjh\"\n",
    "for character in myString:\n",
    "    print(character)"
   ]
  },
  {
   "cell_type": "code",
   "execution_count": null,
   "metadata": {},
   "outputs": [],
   "source": [
    "' '.join(random.sample(myString, len(myString)))"
   ]
  },
  {
   "cell_type": "code",
   "execution_count": 3,
   "metadata": {},
   "outputs": [],
   "source": [
    "# A dictionary for returning the complements\n",
    "completment_list = {'A':'T','C':'G', 'G':'C', 'T':'A'}\n",
    "def get_complement(nucleotide):\n",
    "    return completment_list[nucleotide.upper()]"
   ]
  },
  {
   "cell_type": "code",
   "execution_count": null,
   "metadata": {},
   "outputs": [],
   "source": [
    "get_complement('C')"
   ]
  },
  {
   "cell_type": "code",
   "execution_count": 4,
   "metadata": {},
   "outputs": [],
   "source": [
    "def get_reverse_complement(dna):\n",
    "    \"\"\" Computes the reverse complementary sequence of DNA for the specfied DNA\n",
    "        sequence\n",
    "\n",
    "        dna: a DNA sequence represented as a string\n",
    "        returns: the reverse complementary DNA sequence represented as a string\n",
    "    >>> get_reverse_complement(\"ATGCCCGCTTT\")\n",
    "    'AAAGCGGGCAT'\n",
    "    >>> get_reverse_complement(\"CCGCGTTCA\")\n",
    "    'TGAACGCGG'\n",
    "    \"\"\"\n",
    "    # Create a empty string to hold the reverse complement\n",
    "    reverse_complement = ''\n",
    "    \n",
    "    # Add the nucleotide complements to the reverse complement string\n",
    "    for nucleotide in dna:\n",
    "        reverse_complement += get_complement(nucleotide)\n",
    "    return reverse_complement[::-1]"
   ]
  },
  {
   "cell_type": "code",
   "execution_count": null,
   "metadata": {},
   "outputs": [],
   "source": [
    "get_reverse_complement(\"ATGCCCGCTTT\")"
   ]
  },
  {
   "cell_type": "code",
   "execution_count": null,
   "metadata": {},
   "outputs": [],
   "source": [
    "MYsTRING = \"ATGCCCGCTTT\""
   ]
  },
  {
   "cell_type": "code",
   "execution_count": null,
   "metadata": {},
   "outputs": [],
   "source": [
    "MYsTRING.find('ATG')\n",
    "i = 0\n",
    "while i < len(MYsTRING):\n",
    "    old_i = i\n",
    "    i += 3\n",
    "    print(MYsTRING[old_i:i:1])"
   ]
  },
  {
   "cell_type": "code",
   "execution_count": 5,
   "metadata": {},
   "outputs": [],
   "source": [
    "start_codon = codons[3][0]\n",
    "stop_codon = codons[10]\n",
    "\n",
    "def rest_of_ORF(dna):\n",
    "    \"\"\" Takes a DNA sequence that is assumed to begin with a start\n",
    "        codon and returns the sequence up to but not including the\n",
    "        first in frame stop codon.  If there is no in frame stop codon,\n",
    "        returns the whole string.\n",
    "\n",
    "        dna: a DNA sequence\n",
    "        returns: the open reading frame represented as a string\n",
    "    >>> rest_of_ORF(\"ATGTGAA\")\n",
    "    'ATG'\n",
    "    >>> rest_of_ORF(\"ATGAGATAGG\")\n",
    "    'ATGAGA'\n",
    "    \"\"\"\n",
    "    i = 0\n",
    "    ORF = ''\n",
    "    \n",
    "    # As long as the current position of the curser is not beyond the dna length,\n",
    "    # read three as a group until hit a stop codon\n",
    "    while i < len(dna):\n",
    "        # Save the current i as the index to start recording 3 necleuctides\n",
    "        old_i = i\n",
    "        # Add 3 to i to get the end index\n",
    "        i += 3\n",
    "        # store the 3 necleuctides as one in a temporary variable\n",
    "        temp = dna[old_i:i:1]\n",
    "        \n",
    "        # check if the codon is a stop codon, return the ORF as is; otherwise\n",
    "        # keep adding codons to the ORF\n",
    "        if temp == stop_codon[0] or temp == stop_codon[1] or temp == stop_codon[2]:\n",
    "            return ORF\n",
    "        else:\n",
    "            ORF += temp\n",
    "    return ORF\n",
    "\n",
    "# import doctest\n",
    "# doctest.testmod(verbose=True)"
   ]
  },
  {
   "cell_type": "code",
   "execution_count": null,
   "metadata": {},
   "outputs": [],
   "source": [
    "rest_of_ORF(\"ATGCATGAATGTAGATAGATGTGCCC\")"
   ]
  },
  {
   "cell_type": "code",
   "execution_count": null,
   "metadata": {},
   "outputs": [],
   "source": [
    "newString = 'ATGCATGCGT'\n",
    "newString[3:].find('ATG')"
   ]
  },
  {
   "cell_type": "code",
   "execution_count": null,
   "metadata": {},
   "outputs": [],
   "source": [
    "myList = ['hello']\n",
    "a = 'well'\n",
    "myList.append(a)\n",
    "myList"
   ]
  },
  {
   "cell_type": "code",
   "execution_count": 22,
   "metadata": {},
   "outputs": [
    {
     "name": "stdout",
     "output_type": "stream",
     "text": [
      "Trying:\n",
      "    find_all_ORFs(\"ATGCATGAATGTAG\")\n",
      "Expecting:\n",
      "    ['ATGCATGAATGTAG', 'ATGAATGTAG', 'ATG']\n",
      "ok\n",
      "Trying:\n",
      "    find_all_ORFs_oneframe(\"ATGCATGAATGTAGATAGATGTGCCC\")\n",
      "Expecting:\n",
      "    ['ATGCATGAATGTAGA', 'ATGTGCCC']\n",
      "ok\n",
      "Trying:\n",
      "    get_reverse_complement(\"ATGCCCGCTTT\")\n",
      "Expecting:\n",
      "    'AAAGCGGGCAT'\n",
      "ok\n",
      "Trying:\n",
      "    get_reverse_complement(\"CCGCGTTCA\")\n",
      "Expecting:\n",
      "    'TGAACGCGG'\n",
      "ok\n",
      "Trying:\n",
      "    rest_of_ORF(\"ATGTGAA\")\n",
      "Expecting:\n",
      "    'ATG'\n",
      "ok\n",
      "Trying:\n",
      "    rest_of_ORF(\"ATGAGATAGG\")\n",
      "Expecting:\n",
      "    'ATGAGA'\n",
      "ok\n",
      "2 items had no tests:\n",
      "    __main__\n",
      "    __main__.get_complement\n",
      "4 items passed all tests:\n",
      "   1 tests in __main__.find_all_ORFs\n",
      "   1 tests in __main__.find_all_ORFs_oneframe\n",
      "   2 tests in __main__.get_reverse_complement\n",
      "   2 tests in __main__.rest_of_ORF\n",
      "6 tests in 6 items.\n",
      "6 passed and 0 failed.\n",
      "Test passed.\n"
     ]
    },
    {
     "data": {
      "text/plain": [
       "TestResults(failed=0, attempted=6)"
      ]
     },
     "execution_count": 22,
     "metadata": {},
     "output_type": "execute_result"
    }
   ],
   "source": [
    "def find_all_ORFs_oneframe(dna):\n",
    "    \"\"\" Finds all non-nested open reading frames in the given DNA\n",
    "        sequence and returns them as a list.  This function should\n",
    "        only find ORFs that are in the default frame of the sequence\n",
    "        (i.e. they start on indices that are multiples of 3).\n",
    "        By non-nested we mean that if an ORF occurs entirely within\n",
    "        another ORF, it should not be included in the returned list of ORFs.\n",
    "\n",
    "        dna: a DNA sequence\n",
    "        returns: a list of non-nested ORFs\n",
    "    >>> find_all_ORFs_oneframe(\"ATGCATGAATGTAGATAGATGTGCCC\")\n",
    "    ['ATGCATGAATGTAGA', 'ATGTGCCC']\n",
    "    \"\"\"\n",
    "    ORF_list = []\n",
    "    # base_frame is the base from which to look for a starting codon\n",
    "    base_frame = dna\n",
    "    # base_frame_num is the starting index for a start codon\n",
    "    base_frame_num = base_frame.find(start_codon)\n",
    "    \n",
    "    # Making sure that the frames stay in sync by making sure the ATG location\n",
    "    # can be divided by three\n",
    "    while base_frame_num % 3 != 0:\n",
    "        base_frame = base_frame[3:]\n",
    "        base_frame_num = base_frame.find(start_codon)\n",
    "\n",
    "        \n",
    "    # Keep looking for an ORF until when there's no more to read or when it\n",
    "    # would be a frame out of the original sync\n",
    "    while 1:\n",
    "        # base_frame_num would be negative when there is no starting codon to\n",
    "        # be found, in this case, the loop should break and allow the function\n",
    "        # to return the ORF collected up to this point\n",
    "        if base_frame_num < 0:\n",
    "            break\n",
    "        # Get one full frame from rest_of_ORF() and append it to the ORF_list\n",
    "        full_frame = rest_of_ORF(base_frame[base_frame_num:])\n",
    "        ORF_list.append(full_frame)\n",
    "        # Look for the next ATG index from a base_frame with the previously\n",
    "        # found full_frame removed from the start\n",
    "        next_ATG_loc = base_frame[len(full_frame):].find(start_codon)\n",
    "        # if the index of the next ATG is not divisible by 3 (meaning that\n",
    "        # the new start codon isn't in sync with the previuos one), then\n",
    "        # break from the looking for another ORF\n",
    "        if (next_ATG_loc % 3) != 0:\n",
    "            break\n",
    "        else:\n",
    "            base_frame = base_frame[len(full_frame)+3:]\n",
    "            base_frame_num = next_ATG_loc-3\n",
    "    \n",
    "    return ORF_list\n",
    "\n",
    "doctest.testmod(verbose=True)"
   ]
  },
  {
   "cell_type": "code",
   "execution_count": 23,
   "metadata": {},
   "outputs": [
    {
     "data": {
      "text/plain": [
       "['ATGCATGAATGTAGA', 'ATGTGCCC']"
      ]
     },
     "execution_count": 23,
     "metadata": {},
     "output_type": "execute_result"
    }
   ],
   "source": [
    "find_all_ORFs_oneframe(\"ATGCATGAATGTAGATAGATGTGCCC\")"
   ]
  },
  {
   "cell_type": "code",
   "execution_count": 24,
   "metadata": {},
   "outputs": [
    {
     "data": {
      "text/plain": [
       "'GCATGAATGTAGATAGATGTGCCC'"
      ]
     },
     "execution_count": 24,
     "metadata": {},
     "output_type": "execute_result"
    }
   ],
   "source": [
    "len(find_all_ORFs_oneframe(\"ATGCATGAATGTAGATAGATGTGCCC\"))\n",
    "myString = \"ATGCATGAATGTAGATAGATGTGCCC\"\n",
    "myString[2:]"
   ]
  },
  {
   "cell_type": "code",
   "execution_count": 15,
   "metadata": {},
   "outputs": [
    {
     "name": "stdout",
     "output_type": "stream",
     "text": [
      "Trying:\n",
      "    find_all_ORFs(\"ATGCATGAATGTAG\")\n",
      "Expecting:\n",
      "    ['ATGCATGAATGTAG', 'ATGAATGTAG', 'ATG']\n",
      "ok\n",
      "Trying:\n",
      "    find_all_ORFs_oneframe(\"ATGCATGAATGTAGATAGATGTGCCC\")\n",
      "Expecting:\n",
      "    ['ATGCATGAATGTAGA', 'ATGTGCCC']\n",
      "ok\n",
      "Trying:\n",
      "    get_reverse_complement(\"ATGCCCGCTTT\")\n",
      "Expecting:\n",
      "    'AAAGCGGGCAT'\n",
      "ok\n",
      "Trying:\n",
      "    get_reverse_complement(\"CCGCGTTCA\")\n",
      "Expecting:\n",
      "    'TGAACGCGG'\n",
      "ok\n",
      "Trying:\n",
      "    rest_of_ORF(\"ATGTGAA\")\n",
      "Expecting:\n",
      "    'ATG'\n",
      "ok\n",
      "Trying:\n",
      "    rest_of_ORF(\"ATGAGATAGG\")\n",
      "Expecting:\n",
      "    'ATGAGA'\n",
      "ok\n",
      "2 items had no tests:\n",
      "    __main__\n",
      "    __main__.get_complement\n",
      "4 items passed all tests:\n",
      "   1 tests in __main__.find_all_ORFs\n",
      "   1 tests in __main__.find_all_ORFs_oneframe\n",
      "   2 tests in __main__.get_reverse_complement\n",
      "   2 tests in __main__.rest_of_ORF\n",
      "6 tests in 6 items.\n",
      "6 passed and 0 failed.\n",
      "Test passed.\n"
     ]
    },
    {
     "data": {
      "text/plain": [
       "TestResults(failed=0, attempted=6)"
      ]
     },
     "execution_count": 15,
     "metadata": {},
     "output_type": "execute_result"
    }
   ],
   "source": [
    "def find_all_ORFs(dna):\n",
    "    \"\"\" Finds all non-nested open reading frames in the given DNA sequence in\n",
    "        all 3 possible frames and returns them as a list.  By non-nested we\n",
    "        mean that if an ORF occurs entirely within another ORF and they are\n",
    "        both in the same frame, it should not be included in the returned list\n",
    "        of ORFs.\n",
    "\n",
    "        dna: a DNA sequence\n",
    "        returns: a list of non-nested ORFs\n",
    "\n",
    "    >>> find_all_ORFs(\"ATGCATGAATGTAG\")\n",
    "    ['ATGCATGAATGTAG', 'ATGAATGTAG', 'ATG']\n",
    "    \"\"\"\n",
    "    all_ORF = []\n",
    "    # Loop through the possibilities of a starting codon being on the multiples\n",
    "    # of 0, 1, 2 index\n",
    "    for i in range(3):\n",
    "        temp_all_frame = find_all_ORFs_oneframe(dna[i:])\n",
    "        # In case that there are more than just one frame in one find_all,\n",
    "        # append individual ones to the list with the for loop\n",
    "        for y in range(len(temp_all_frame)):\n",
    "            all_ORF.append(temp_all_frame[y])\n",
    "            \n",
    "    return all_ORF\n",
    "\n",
    "doctest.testmod(verbose=True)"
   ]
  },
  {
   "cell_type": "code",
   "execution_count": null,
   "metadata": {},
   "outputs": [],
   "source": [
    "find_all_ORFs(\"ATGCATGAATGTAG\")"
   ]
  },
  {
   "cell_type": "code",
   "execution_count": null,
   "metadata": {},
   "outputs": [],
   "source": [
    "for i in range(3):\n",
    "    print(i)"
   ]
  },
  {
   "cell_type": "code",
   "execution_count": null,
   "metadata": {},
   "outputs": [],
   "source": [
    "a = 'ATGCATGAATGTAG'\n",
    "find_all_ORFs_oneframe(a[2:])"
   ]
  },
  {
   "cell_type": "code",
   "execution_count": null,
   "metadata": {},
   "outputs": [],
   "source": [
    "a[2:]"
   ]
  },
  {
   "cell_type": "code",
   "execution_count": null,
   "metadata": {},
   "outputs": [],
   "source": [
    "rest_of_ORF('GCATGAATGTAG')"
   ]
  },
  {
   "cell_type": "code",
   "execution_count": null,
   "metadata": {},
   "outputs": [],
   "source": [
    "b = 'ATGTAG'\n",
    "b[6:].find('ATG')"
   ]
  },
  {
   "cell_type": "code",
   "execution_count": null,
   "metadata": {},
   "outputs": [],
   "source": [
    "-1 % 3"
   ]
  },
  {
   "cell_type": "code",
   "execution_count": null,
   "metadata": {},
   "outputs": [],
   "source": []
  }
 ],
 "metadata": {
  "kernelspec": {
   "display_name": "Python 3",
   "language": "python",
   "name": "python3"
  },
  "language_info": {
   "codemirror_mode": {
    "name": "ipython",
    "version": 3
   },
   "file_extension": ".py",
   "mimetype": "text/x-python",
   "name": "python",
   "nbconvert_exporter": "python",
   "pygments_lexer": "ipython3",
   "version": "3.6.3"
  }
 },
 "nbformat": 4,
 "nbformat_minor": 2
}
