{
 "cells": [
  {
   "cell_type": "code",
   "execution_count": 1,
   "metadata": {},
   "outputs": [],
   "source": [
    "from amino_acids import aa, codons, aa_table\n",
    "import random\n",
    "import doctest"
   ]
  },
  {
   "cell_type": "code",
   "execution_count": 2,
   "metadata": {},
   "outputs": [],
   "source": [
    "# A dictionary for returning the complements\n",
    "completment_list = {'A':'T','C':'G', 'G':'C', 'T':'A'}\n",
    "def get_complement(nucleotide):\n",
    "    return completment_list[nucleotide.upper()]"
   ]
  },
  {
   "cell_type": "code",
   "execution_count": 4,
   "metadata": {},
   "outputs": [
    {
     "data": {
      "text/plain": [
       "'G'"
      ]
     },
     "execution_count": 4,
     "metadata": {},
     "output_type": "execute_result"
    }
   ],
   "source": [
    "get_complement('C')"
   ]
  },
  {
   "cell_type": "code",
   "execution_count": 3,
   "metadata": {},
   "outputs": [
    {
     "data": {
      "text/plain": [
       "TestResults(failed=0, attempted=3)"
      ]
     },
     "execution_count": 3,
     "metadata": {},
     "output_type": "execute_result"
    }
   ],
   "source": [
    "def get_reverse_complement(dna):\n",
    "    \"\"\" Computes the reverse complementary sequence of DNA for the specfied DNA\n",
    "        sequence\n",
    "\n",
    "        dna: a DNA sequence represented as a string\n",
    "        returns: the reverse complementary DNA sequence represented as a string\n",
    "    >>> get_reverse_complement(\"ATGCCCGCTTT\")\n",
    "    'AAAGCGGGCAT'\n",
    "    >>> get_reverse_complement(\"CCGCGTTCA\")\n",
    "    'TGAACGCGG'\n",
    "    >>> get_reverse_complement('TGAATGTAG')\n",
    "    'CTACATTCA'\n",
    "    \"\"\"\n",
    "    # Create a empty string to hold the reverse complement\n",
    "    reverse_complement = ''\n",
    "    \n",
    "    # Add the nucleotide complements to the reverse complement string\n",
    "    for nucleotide in dna:\n",
    "        reverse_complement += get_complement(nucleotide)\n",
    "    return reverse_complement[::-1]\n",
    "\n",
    "doctest.testmod(verbose = False)"
   ]
  },
  {
   "cell_type": "code",
   "execution_count": 4,
   "metadata": {},
   "outputs": [
    {
     "data": {
      "text/plain": [
       "TestResults(failed=0, attempted=6)"
      ]
     },
     "execution_count": 4,
     "metadata": {},
     "output_type": "execute_result"
    }
   ],
   "source": [
    "start_codon = codons[3][0]\n",
    "stop_codon = codons[10]\n",
    "\n",
    "def rest_of_ORF(dna):\n",
    "    \"\"\" Takes a DNA sequence that is assumed to begin with a start\n",
    "        codon and returns the sequence up to but not including the\n",
    "        first in frame stop codon.  If there is no in frame stop codon,\n",
    "        returns the whole string.\n",
    "\n",
    "        dna: a DNA sequence\n",
    "        returns: the open reading frame represented as a string\n",
    "    >>> rest_of_ORF(\"ATGTGAA\")\n",
    "    'ATG'\n",
    "    >>> rest_of_ORF(\"ATGAGATAGG\")\n",
    "    'ATGAGA'\n",
    "    >>> rest_of_ORF('ATGATAGATTAGGTGCCC')\n",
    "    'ATGATAGAT'\n",
    "    \"\"\"\n",
    "    i = 0\n",
    "    ORF = ''\n",
    "    \n",
    "    # As long as the current position of the curser is not beyond the dna length,\n",
    "    # read three as a group until hit a stop codon\n",
    "    while i < len(dna):\n",
    "        #print(dna)\n",
    "        # Save the current i as the index to start recording 3 necleuctides\n",
    "        old_i = i\n",
    "        # Add 3 to i to get the end index\n",
    "        i += 3\n",
    "        # store the 3 necleuctides as one in a temporary variable\n",
    "        temp = dna[old_i:i:1]\n",
    "        \n",
    "        # check if the codon is a stop codon, return the ORF as is; otherwise\n",
    "        # keep adding codons to the ORF\n",
    "        if temp == stop_codon[0] or temp == stop_codon[1] or temp == stop_codon[2]:\n",
    "            return ORF\n",
    "        else:\n",
    "            ORF += temp\n",
    "    return ORF\n",
    "\n",
    "doctest.testmod(verbose=False)"
   ]
  },
  {
   "cell_type": "code",
   "execution_count": 5,
   "metadata": {},
   "outputs": [
    {
     "data": {
      "text/plain": [
       "'ATGATAGAT'"
      ]
     },
     "execution_count": 5,
     "metadata": {},
     "output_type": "execute_result"
    }
   ],
   "source": [
    "rest_of_ORF('ATGATAGATTAGGTGCCC')"
   ]
  },
  {
   "cell_type": "raw",
   "metadata": {},
   "source": [
    "# def find_all_ORFs_oneframe(dna):\n",
    "    \"\"\" Finds all non-nested open reading frames in the given DNA\n",
    "        sequence and returns them as a list.  This function should\n",
    "        only find ORFs that are in the default frame of the sequence\n",
    "        (i.e. they start on indices that are multiples of 3).\n",
    "        By non-nested we mean that if an ORF occurs entirely within\n",
    "        another ORF, it should not be included in the returned list of ORFs.\n",
    "\n",
    "        dna: a DNA sequence\n",
    "        returns: a list of non-nested ORFs\n",
    "    >>> find_all_ORFs_oneframe(\"ATGCATGAATGTAGATAGATGTGCCC\")\n",
    "    ['ATGCATGAATGTAGA', 'ATGTGCCC']\n",
    "    \"\"\"\n",
    "    checked = False\n",
    "    ORF_list = []\n",
    "    # base_frame is the base from which to look for a starting codon\n",
    "    base_frame = dna\n",
    "    # base_frame_num is the starting index for a start codon\n",
    "    base_frame_num = base_frame.find(start_codon)\n",
    "    \n",
    "    # Making sure that the frames stay in sync by making sure the ATG location\n",
    "    # can be divided by three\n",
    "    #print(base_frame_num)\n",
    "    \n",
    "    if base_frame_num % 3 != 0:\n",
    "        while 1:\n",
    "            #print(i)\n",
    "            \n",
    "            base_frame_num += 3\n",
    "            temp_frame = base_frame[base_frame_num:]\n",
    "#             print(temp_frame)\n",
    "            temp_num = temp_frame.find(start_codon)\n",
    "#             print(temp_num)\n",
    "            if temp_num == -1:\n",
    "                    return\n",
    "            base_frame_num += temp_num\n",
    "            #print(base_frame_num)\n",
    "            if base_frame_num % 3 == 0:\n",
    "                base_frame = base_frame[base_frame_num:]\n",
    "                #print(base_frame)\n",
    "                checked = True\n",
    "                break\n",
    "            \n",
    "\n",
    "        \n",
    "    # Keep looking for an ORF until when there's no more to read or when it\n",
    "    # would be a frame out of the original sync\n",
    "    while 1:\n",
    "        # base_frame_num would be negative when there is no starting codon to\n",
    "        # be found, in this case, the loop should break and allow the function\n",
    "        # to return the ORF collected up to this point\n",
    "        if base_frame_num < 0:\n",
    "            break\n",
    "#         Get one full frame from rest_of_ORF() and append it to the ORF_list\n",
    "#         print(base_frame[base_frame_num:], ' Hello')\n",
    "        if checked:\n",
    "            full_frame = rest_of_ORF(base_frame)\n",
    "        else:\n",
    "            full_frame = rest_of_ORF(base_frame[base_frame_num:])\n",
    "#         print(full_frame)\n",
    "#         print(full_frame)\n",
    "        ORF_list.append(full_frame)\n",
    "        # Look for the next ATG index from a base_frame with the previously\n",
    "        # found full_frame removed from the start\n",
    "        next_ATG_loc = base_frame[len(full_frame):].find(start_codon)\n",
    "        # if the index of the next ATG is not divisible by 3 (meaning that\n",
    "        # the new start codon isn't in sync with the previuos one), then\n",
    "        # break from the looking for another ORF\n",
    "        if (next_ATG_loc % 3) != 0:\n",
    "            break\n",
    "        else:\n",
    "            base_frame = base_frame[len(full_frame)+3:]\n",
    "            #print(base_frame)\n",
    "            base_frame_num = next_ATG_loc-3\n",
    "    \n",
    "    return ORF_list\n",
    "\n",
    "doctest.testmod(verbose=True)"
   ]
  },
  {
   "cell_type": "code",
   "execution_count": 11,
   "metadata": {},
   "outputs": [
    {
     "data": {
      "text/plain": [
       "TestResults(failed=0, attempted=12)"
      ]
     },
     "execution_count": 11,
     "metadata": {},
     "output_type": "execute_result"
    }
   ],
   "source": [
    "def find_all_ORFs_oneframe(dna):\n",
    "    \"\"\" Finds all non-nested open reading frames in the given DNA\n",
    "        sequence and returns them as a list.  This function should\n",
    "        only find ORFs that are in the default frame of the sequence\n",
    "        (i.e. they start on indices that are multiples of 3).\n",
    "        By non-nested we mean that if an ORF occurs entirely within\n",
    "        another ORF, it should not be included in the returned list of ORFs.\n",
    "\n",
    "        dna: a DNA sequence\n",
    "        returns: a list of non-nested ORFs\n",
    "    >>> find_all_ORFs_oneframe(\"ATGCATGAATGTAGATAGATGTGCCC\")\n",
    "    ['ATGCATGAATGTAGA', 'ATGTGCCC']\n",
    "    >>> find_all_ORFs_oneframe('GCATGAATGTAG')\n",
    "    ['ATG']\n",
    "    \"\"\"\n",
    "    ORF_list = []\n",
    "    #base_num = dna.find('ATG')\n",
    "    base_frame = dna\n",
    "    while 1:\n",
    "        base_num = base_frame.find('ATG')\n",
    "        if base_num < 0:\n",
    "            return ORF_list\n",
    "        elif base_num % 3 != 0:\n",
    "            base_frame = base_frame[3:]\n",
    "        else:\n",
    "            #base_num\n",
    "            base_frame = base_frame[base_num:]\n",
    "            one_frame = rest_of_ORF(base_frame)\n",
    "            base_frame = base_frame[len(one_frame)+3:]\n",
    "            ORF_list.append(one_frame)\n",
    "    \n",
    "    return ORF_list\n",
    "\n",
    "doctest.testmod(verbose = False)"
   ]
  },
  {
   "cell_type": "code",
   "execution_count": 12,
   "metadata": {},
   "outputs": [
    {
     "data": {
      "text/plain": [
       "TestResults(failed=0, attempted=12)"
      ]
     },
     "execution_count": 12,
     "metadata": {},
     "output_type": "execute_result"
    }
   ],
   "source": [
    "def find_all_ORFs(dna):\n",
    "    \"\"\" Finds all non-nested open reading frames in the given DNA sequence in\n",
    "        all 3 possible frames and returns them as a list.  By non-nested we\n",
    "        mean that if an ORF occurs entirely within another ORF and they are\n",
    "        both in the same frame, it should not be included in the returned list\n",
    "        of ORFs.\n",
    "\n",
    "        dna: a DNA sequence\n",
    "        returns: a list of non-nested ORFs\n",
    "\n",
    "    >>> find_all_ORFs(\"ATGCATGAATGTAG\")\n",
    "    ['ATGCATGAATGTAG', 'ATGAATGTAG', 'ATG']\n",
    "    >>> find_all_ORFs(\"GCATGAATGTAG\")\n",
    "    ['ATG', 'ATGAATGTAG']\n",
    "    \"\"\"\n",
    "    all_ORF = []\n",
    "    # Loop through the possibilities of a starting codon being on the multiples\n",
    "    # of 0, 1, 2 index\n",
    "    for i in range(3):\n",
    "#         print(dna[i:])\n",
    "        temp_all_frame = find_all_ORFs_oneframe(dna[i:])\n",
    "        # In case that there are more than just one frame in one find_all,\n",
    "        # append individual ones to the list with the for loop\n",
    "        if temp_all_frame != None:\n",
    "            all_ORF += [y for y in temp_all_frame]\n",
    "            \n",
    "    return all_ORF\n",
    "\n",
    "doctest.testmod(verbose=False)"
   ]
  },
  {
   "cell_type": "code",
   "execution_count": 13,
   "metadata": {},
   "outputs": [
    {
     "data": {
      "text/plain": [
       "['ATG', 'ATGAATGTAG']"
      ]
     },
     "execution_count": 13,
     "metadata": {},
     "output_type": "execute_result"
    }
   ],
   "source": [
    "find_all_ORFs(\"GCATGAATGTAG\")"
   ]
  },
  {
   "cell_type": "code",
   "execution_count": 14,
   "metadata": {},
   "outputs": [
    {
     "data": {
      "text/plain": [
       "TestResults(failed=0, attempted=12)"
      ]
     },
     "execution_count": 14,
     "metadata": {},
     "output_type": "execute_result"
    }
   ],
   "source": [
    "def find_all_ORFs_both_strands(dna):\n",
    "    \"\"\" Finds all non-nested open reading frames in the given DNA sequence on both\n",
    "        strands.\n",
    "\n",
    "        dna: a DNA sequence\n",
    "        returns: a list of non-nested ORFs\n",
    "    >>> find_all_ORFs_both_strands(\"ATGCGAATGTAGCATCAAA\")\n",
    "    ['ATGCGAATG', 'ATGCTACATTCGCAT']\n",
    "    >>> find_all_ORFs_both_strands(\"ATGCATGAATGTAG\")\n",
    "    ['ATGCATGAATGTAG', 'ATGAATGTAG', 'ATG', 'ATGCAT']\n",
    "    \"\"\"\n",
    "    dna_complement = get_reverse_complement(dna)\n",
    "    original_ORF = find_all_ORFs(dna)\n",
    "    complement_ORF = find_all_ORFs(dna_complement)\n",
    "    ORF_both = [i for i in original_ORF]\n",
    "    ORF_both += [i for i in complement_ORF]\n",
    "    \n",
    "    return ORF_both\n",
    "\n",
    "doctest.testmod(verbose = False)"
   ]
  },
  {
   "cell_type": "code",
   "execution_count": 15,
   "metadata": {},
   "outputs": [
    {
     "data": {
      "text/plain": [
       "['ATGCATGAATGTAG', 'ATGAATGTAG', 'ATG', 'ATGCAT']"
      ]
     },
     "execution_count": 15,
     "metadata": {},
     "output_type": "execute_result"
    }
   ],
   "source": [
    "find_all_ORFs_both_strands(\"ATGCATGAATGTAG\")"
   ]
  },
  {
   "cell_type": "code",
   "execution_count": 16,
   "metadata": {},
   "outputs": [
    {
     "data": {
      "text/plain": [
       "[0, 1, 4, 9, 16, 25, 36, 49, 64, 81]"
      ]
     },
     "execution_count": 16,
     "metadata": {},
     "output_type": "execute_result"
    }
   ],
   "source": [
    "squares = [x**2 for x in range(10)]\n",
    "squares"
   ]
  },
  {
   "cell_type": "markdown",
   "metadata": {},
   "source": [
    "# Week Two Stuff"
   ]
  },
  {
   "cell_type": "code",
   "execution_count": 17,
   "metadata": {},
   "outputs": [
    {
     "data": {
      "text/plain": [
       "TestResults(failed=0, attempted=14)"
      ]
     },
     "execution_count": 17,
     "metadata": {},
     "output_type": "execute_result"
    }
   ],
   "source": [
    "def longest_ORF(dna):\n",
    "    \"\"\" Finds the longest ORF on both strands of the specified DNA and returns it\n",
    "        as a string\n",
    "    >>> longest_ORF(\"ATGCGAATGTAGCATCAAA\")\n",
    "    'ATGCTACATTCGCAT'\n",
    "    >>> longest_ORF(\"ATGCATGAATGGCATGAATGTAG\")\n",
    "    'ATGCATGAATGGCATGAATGTAG'\n",
    "    \"\"\"\n",
    "    ORF_both = find_all_ORFs_both_strands(dna)\n",
    "    longest_length = 0\n",
    "    longest_length_index = None\n",
    "    for i in range(len(ORF_both)):\n",
    "        if len(ORF_both[i]) > longest_length:\n",
    "            longest_length_index = i\n",
    "            longest_length = len(ORF_both[i])\n",
    "    if longest_length_index == None:\n",
    "        return '0'\n",
    "    else:\n",
    "        return ORF_both[longest_length_index]\n",
    "    \n",
    "doctest.testmod(verbose = False)"
   ]
  },
  {
   "cell_type": "code",
   "execution_count": 18,
   "metadata": {},
   "outputs": [
    {
     "data": {
      "text/plain": [
       "'ATGCATGAATGGCATGAATGTAG'"
      ]
     },
     "execution_count": 18,
     "metadata": {},
     "output_type": "execute_result"
    }
   ],
   "source": [
    "longest_ORF(\"ATGCATGAATGGCATGAATGTAG\")"
   ]
  },
  {
   "cell_type": "code",
   "execution_count": 20,
   "metadata": {},
   "outputs": [],
   "source": [
    "#len(longest_ORF(dna))"
   ]
  },
  {
   "cell_type": "markdown",
   "metadata": {},
   "source": [
    "def shuffle_string(s):\n",
    "    \"\"\"Shuffles the characters in the input string\n",
    "        NOTE: this is a helper function, you do not\n",
    "        have to modify this in any way \"\"\"\n",
    "    return ''.join(random.sample(s, len(s)))"
   ]
  },
  {
   "cell_type": "markdown",
   "metadata": {},
   "source": [
    "def longest_ORF_noncoding(dna, num_trials):\n",
    "    \"\"\" Computes the maximum length of the longest ORF over num_trials shuffles\n",
    "        of the specfied DNA sequence\n",
    "\n",
    "        dna: a DNA sequence\n",
    "        num_trials: the number of random shuffles\n",
    "        returns: the maximum length longest ORF \"\"\"\n",
    "    results = []\n",
    "    for i in range(num_trials):\n",
    "        result = longest_ORF(shuffle_string(dna))\n",
    "        results.append(result)\n",
    "    \n",
    "    \n",
    "    return len(max(results))"
   ]
  },
  {
   "cell_type": "code",
   "execution_count": 21,
   "metadata": {},
   "outputs": [
    {
     "ename": "NameError",
     "evalue": "name 'longest_ORF_noncoding' is not defined",
     "output_type": "error",
     "traceback": [
      "\u001b[0;31m---------------------------------------------------------------------------\u001b[0m",
      "\u001b[0;31mNameError\u001b[0m                                 Traceback (most recent call last)",
      "\u001b[0;32m<ipython-input-21-75c7c764b648>\u001b[0m in \u001b[0;36m<module>\u001b[0;34m()\u001b[0m\n\u001b[0;32m----> 1\u001b[0;31m \u001b[0mlongest_ORF_noncoding\u001b[0m\u001b[0;34m(\u001b[0m\u001b[0;34m\"ATGCGAATGTAGCATCAAA\"\u001b[0m\u001b[0;34m,\u001b[0m \u001b[0;36m1500\u001b[0m\u001b[0;34m)\u001b[0m\u001b[0;34m\u001b[0m\u001b[0m\n\u001b[0m",
      "\u001b[0;31mNameError\u001b[0m: name 'longest_ORF_noncoding' is not defined"
     ]
    }
   ],
   "source": [
    "longest_ORF_noncoding(\"ATGCGAATGTAGCATCAAA\", 1500)"
   ]
  },
  {
   "cell_type": "code",
   "execution_count": 22,
   "metadata": {},
   "outputs": [],
   "source": [
    "import multiprocessing as mp\n",
    "import random\n",
    "import string\n",
    "\n",
    "def longest_ORF_noncoding(dna, num_trials):\n",
    "    \"\"\" Computes the maximum length of the longest ORF over num_trials shuffles\n",
    "        of the specfied DNA sequence\n",
    "\n",
    "        dna: a DNA sequence\n",
    "        num_trials: the number of random shuffles\n",
    "        returns: the maximum length longest ORF \"\"\"\n",
    "    \n",
    "    random.seed()\n",
    "\n",
    "    # Define an output queue\n",
    "    output = mp.Queue()\n",
    "\n",
    "    def rand_dna(dna, output):\n",
    "        \"\"\" Generates a random string of numbers, lower- and uppercase chars. \"\"\"\n",
    "        length = len(dna)\n",
    "        rand_str = ''.join(random.sample(dna, length))\n",
    "        rand_str = longest_ORF(rand_str)\n",
    "        output.put(rand_str)\n",
    "        \n",
    "    times_to_run = 1\n",
    "    if num_trials > 100:\n",
    "        times_to_run = num_trials / 100\n",
    "        num_trials = 100\n",
    "    \n",
    "    results = []\n",
    "    \n",
    "    for i in range(int(times_to_run)):\n",
    "        # Setup a list of processes that we want to run\n",
    "        shuffle_process = [mp.Process(target=rand_dna, args=(dna, output)) for num in range(num_trials)]\n",
    "\n",
    "        # Run processes\n",
    "        for p in shuffle_process:\n",
    "            p.start()\n",
    "\n",
    "        # Exit the completed processes\n",
    "        for p in shuffle_process:\n",
    "            p.join()\n",
    "\n",
    "        # Get process results from the output queue\n",
    "        results.append(max([output.get() for p in shuffle_process], key = len))\n",
    "    \n",
    "    return len(max(results, key = len))"
   ]
  },
  {
   "cell_type": "code",
   "execution_count": 23,
   "metadata": {},
   "outputs": [
    {
     "name": "stdout",
     "output_type": "stream",
     "text": [
      "CPU times: user 632 ms, sys: 2.1 s, total: 2.73 s\n",
      "Wall time: 2.69 s\n"
     ]
    },
    {
     "data": {
      "text/plain": [
       "138"
      ]
     },
     "execution_count": 23,
     "metadata": {},
     "output_type": "execute_result"
    }
   ],
   "source": [
    "%time longest_ORF_noncoding(\"AAGTCCAAAAAGTCCAAAGTCCAAAAAGTCCAAATAGTGAGATCAAGTCCAAAAAGTCCAAATAGTGAGATCAAGTCCAAATAGTGAGATAAGTCCAAATAGTGAGATAATAGTGAGATCAAGTCCAAATAGTGAGAT\", 1500)"
   ]
  },
  {
   "cell_type": "code",
   "execution_count": 24,
   "metadata": {},
   "outputs": [
    {
     "data": {
      "text/plain": [
       "TestResults(failed=0, attempted=17)"
      ]
     },
     "execution_count": 24,
     "metadata": {},
     "output_type": "execute_result"
    }
   ],
   "source": [
    "def coding_strand_to_AA(dna):\n",
    "    \"\"\" Computes the Protein encoded by a sequence of DNA.  This function\n",
    "        does not check for start and stop codons (it assumes that the input\n",
    "        DNA sequence represents an protein coding region).\n",
    "\n",
    "        dna: a DNA sequence represented as a string\n",
    "        returns: a string containing the sequence of amino acids encoded by the\n",
    "                 the input DNA fragment\n",
    "\n",
    "        >>> coding_strand_to_AA(\"ATGCGA\")\n",
    "        'MR'\n",
    "        >>> coding_strand_to_AA(\"ATGCCCGCTTT\")\n",
    "        'MPA'\n",
    "        >>> coding_strand_to_AA(\"ATGCATGAATGGCATGAATGTAG\")\n",
    "        'MHEWHEC'\n",
    "    \"\"\"\n",
    "    AA = ''\n",
    "    i = 0\n",
    "    while i < len(dna):\n",
    "        old_i = i\n",
    "        i += 3\n",
    "        if i > len(dna):\n",
    "            break\n",
    "        AA += aa_table[dna[old_i:i:1]]\n",
    "    return AA\n",
    "\n",
    "doctest.testmod(verbose=False)"
   ]
  },
  {
   "cell_type": "code",
   "execution_count": 25,
   "metadata": {},
   "outputs": [
    {
     "data": {
      "text/plain": [
       "'MHEWHEC'"
      ]
     },
     "execution_count": 25,
     "metadata": {},
     "output_type": "execute_result"
    }
   ],
   "source": [
    "coding_strand_to_AA(\"ATGCATGAATGGCATGAATGTAG\")"
   ]
  },
  {
   "cell_type": "code",
   "execution_count": 26,
   "metadata": {},
   "outputs": [],
   "source": [
    "def gene_finder(dna):\n",
    "    \"\"\" Returns the amino acid sequences that are likely coded by the specified dna\n",
    "\n",
    "        dna: a DNA sequence\n",
    "        returns: a list of all amino acid sequences coded by the sequence dna.\n",
    "    \"\"\"\n",
    "    AA_sequence = []\n",
    "    threshold = longest_ORF_noncoding(dna, 1500)\n",
    "    print(threshold)\n",
    "    both_ORF = find_all_ORFs_both_strands(dna)\n",
    "    for i in range(len(both_ORF)):\n",
    "        if threshold < len(both_ORF[i]):\n",
    "            AA_sequence.append(coding_strand_to_AA(both_ORF[i]))\n",
    "    return AA_sequence"
   ]
  },
  {
   "cell_type": "code",
   "execution_count": null,
   "metadata": {},
   "outputs": [],
   "source": [
    "gene_finder(\"AAGTCCAAAAAGTCCAAAGTCCAAAAAGTCCAAATAGTGAGATCAAGTCCAAAAAGTCCAAATAGTGAGATCAAGTCCAAATAGTGAGATAAGTCCAAATAGTGAGATAATAGTGAGATCAAGTCCAAATAGTGAGAT\")"
   ]
  },
  {
   "cell_type": "code",
   "execution_count": 27,
   "metadata": {},
   "outputs": [],
   "source": [
    "from load import load_seq\n",
    "dna = load_seq(\"./data/X73525.fa\")"
   ]
  },
  {
   "cell_type": "code",
   "execution_count": 28,
   "metadata": {},
   "outputs": [
    {
     "name": "stdout",
     "output_type": "stream",
     "text": [
      "816\n",
      "CPU times: user 693 ms, sys: 2.47 s, total: 3.16 s\n",
      "Wall time: 4.87 s\n"
     ]
    },
    {
     "data": {
      "text/plain": [
       "['MSLRVRQIDRREWLLAQTATECQRHGREATLEYPTRQGMWVRLSDAEKRWSAWIKPGDWLEHVSPALAGAAVSAGAEHLVVPWLAATERPFELPVPHLSCRRLCVENPVPGSALPEGKLLHIMSDRGGLWFEHLPELPAVGGGRPKMLRWPLRFVIGSSDTQRSLLGRIGIGDVLLIRTSRAEVYCYAKKLGHFNRVEGGIIVETLDIQHIEEENNTTETAETLPGLNQLPVKLEFVLYRKNVTLAELEAMGQQQLLSLPTNAELNVEIMANGVLLGNGELVQMNDTLGVEIHEWLSESGNGE',\n",
       " 'MSSNKTEKPTKKRLEDSAKKGQSFKSKDLIIACLTLGGIAYLVSYGSFNEFMGIIKIIIADNFDQSMADYSLAVFGIGLKYLIPFMLLCLVCSALPALLQAGFVLATEALKPNLSALNPVEGAKKLFSMRTVKDTVKTLLYLSSFVVAAIICWKKYKVEIFSQLNGNIVGIAVIWRELLLALVLTCLACALIVLLLDAIAEYFLTMKDMKMDKEEVKREMKEQEGNPEVKSKRREVHMEILSEQVKSDIENSRLIVANPTHITIGIYFKPELMPIPMISVYETNQRALAVRAYAEKVGVPVIVDIKLARSLFKTHRRYDLVSLEEIDEVLRLLVWLEEVENAGKDVIQPQENEVRH',\n",
       " 'MGIFASAGCGKTMLMHMLIEQTEADVFVIGLIGERGREVTEFVDMLRASHKKEKCVLVFATSDFPSVDRCNAAQLATTVAEYFRDQGKRVVLFIDSMTRYARALRDVALASGERPARRGYPASVFDNLPRLLERPGATSEGSITAFYTVLLESEEEADPMADEIRSILDGHLYLSRKLAGQGHYPAIDVLKSVSRVFGQVTTPTHAEQASAVRKLMTRLEELQLFIDLGEYRPGENIDNDRAMQMRDSLKAWLCQPVAQYSSFDDTLSGMNAFADQN',\n",
       " 'MGDVSAVSSSGNILLPQQDEVGGLSEALKKAVEKHKTEYSGDKKDRDYGDAFVMHKETALPLLLAAWRHGAPAKSEHHNGNVSGLHHNGKSELRIAEKLLKVTAEKSVGLISAEAKVDKSAALLSSKNRPLESVSGKKLSADLKAVESVSEVTDNATGISDDNIKALPGDNKAIAGEGVRKEGAPLARDVAPARMAAANTGKPEDKDHKKVKDVSQLPLQPTTIADLSQLTGGDEKMPLAAQSKPMMTIFPTADGVKGEDSSLTYRFQRWGNDYSVNIQARQAGEFSLIPSNTQVEHRLHDQWQNGNPQRWHLTRDDQQNPQQQQHRQQSGEEDDA']"
      ]
     },
     "execution_count": 28,
     "metadata": {},
     "output_type": "execute_result"
    }
   ],
   "source": [
    "%time gene_finder(dna)"
   ]
  },
  {
   "cell_type": "code",
   "execution_count": null,
   "metadata": {},
   "outputs": [],
   "source": []
  },
  {
   "cell_type": "code",
   "execution_count": null,
   "metadata": {},
   "outputs": [],
   "source": [
    "a = [1, 2, 3, 4]\n",
    "type(a)"
   ]
  },
  {
   "cell_type": "code",
   "execution_count": 36,
   "metadata": {},
   "outputs": [],
   "source": [
    "def longest_substring(known_dna, metagenome):\n",
    "    max_from_each = []\n",
    "    for z in range(len(metagenome)):\n",
    "        out = \"\"\n",
    "        dna_to_compare = metagenome[z][1]\n",
    "\n",
    "        #cache = [0,0,0,0]\n",
    "        cache_cached = [0 for X in range(len(dna_to_compare))]\n",
    "        for i in range(len(known_dna)):\n",
    "            cache = [0 for Y in range(len(dna_to_compare))]\n",
    "            for j in range(len(dna_to_compare)):\n",
    "                if known_dna[i] == dna_to_compare[j]:\n",
    "                    if i == 0 or j == 0:\n",
    "                        cache[j] = 1\n",
    "                    else:\n",
    "                        cache[j] = cache_cached[j-1]+1\n",
    "                    if cache[j] > len(out):\n",
    "                        out = known_dna[i-cache[j]+1:i+1]\n",
    "                else:\n",
    "                    cache[j] = 0\n",
    "    #             print(cache)\n",
    "            cache_cached = cache\n",
    "    #         print(cache_cached, \"ca\")\n",
    "        print(len(out))\n",
    "        max_from_each.append(out)\n",
    "\n",
    "    return max(max_from_each, key = len)"
   ]
  },
  {
   "cell_type": "code",
   "execution_count": 10,
   "metadata": {},
   "outputs": [
    {
     "ename": "NameError",
     "evalue": "name 'mp' is not defined",
     "output_type": "error",
     "traceback": [
      "\u001b[0;31m---------------------------------------------------------------------------\u001b[0m",
      "\u001b[0;31mNameError\u001b[0m                                 Traceback (most recent call last)",
      "\u001b[0;32m<ipython-input-10-dfbf30667dae>\u001b[0m in \u001b[0;36m<module>\u001b[0;34m()\u001b[0m\n\u001b[0;32m----> 1\u001b[0;31m \u001b[0mpool\u001b[0m \u001b[0;34m=\u001b[0m \u001b[0mmp\u001b[0m\u001b[0;34m.\u001b[0m\u001b[0mPool\u001b[0m\u001b[0;34m(\u001b[0m\u001b[0mprocesses\u001b[0m\u001b[0;34m=\u001b[0m\u001b[0;36m4\u001b[0m\u001b[0;34m)\u001b[0m\u001b[0;34m\u001b[0m\u001b[0m\n\u001b[0m\u001b[1;32m      2\u001b[0m \u001b[0mresults\u001b[0m \u001b[0;34m=\u001b[0m \u001b[0;34m[\u001b[0m\u001b[0mpool\u001b[0m\u001b[0;34m.\u001b[0m\u001b[0mapply\u001b[0m\u001b[0;34m(\u001b[0m\u001b[0mcube\u001b[0m\u001b[0;34m,\u001b[0m \u001b[0margs\u001b[0m\u001b[0;34m=\u001b[0m\u001b[0;34m(\u001b[0m\u001b[0mx\u001b[0m\u001b[0;34m,\u001b[0m\u001b[0;34m)\u001b[0m\u001b[0;34m)\u001b[0m \u001b[0;32mfor\u001b[0m \u001b[0mx\u001b[0m \u001b[0;32min\u001b[0m \u001b[0mrange\u001b[0m\u001b[0;34m(\u001b[0m\u001b[0;36m1\u001b[0m\u001b[0;34m,\u001b[0m\u001b[0;36m7\u001b[0m\u001b[0;34m)\u001b[0m\u001b[0;34m]\u001b[0m\u001b[0;34m\u001b[0m\u001b[0m\n\u001b[1;32m      3\u001b[0m \u001b[0mprint\u001b[0m\u001b[0;34m(\u001b[0m\u001b[0mresults\u001b[0m\u001b[0;34m)\u001b[0m\u001b[0;34m\u001b[0m\u001b[0m\n\u001b[1;32m      4\u001b[0m \u001b[0;34m\u001b[0m\u001b[0m\n\u001b[1;32m      5\u001b[0m \u001b[0;32mdef\u001b[0m \u001b[0msame_char_eval\u001b[0m\u001b[0;34m(\u001b[0m\u001b[0mcache\u001b[0m\u001b[0;34m,\u001b[0m \u001b[0mcache_cached\u001b[0m\u001b[0;34m,\u001b[0m \u001b[0mi\u001b[0m\u001b[0;34m,\u001b[0m \u001b[0mj\u001b[0m\u001b[0;34m)\u001b[0m\u001b[0;34m:\u001b[0m\u001b[0;34m\u001b[0m\u001b[0m\n",
      "\u001b[0;31mNameError\u001b[0m: name 'mp' is not defined"
     ]
    }
   ],
   "source": [
    "pool = mp.Pool(processes=4)\n",
    "results = [pool.apply(cube, args=(x,)) for x in range(1,7)]\n",
    "print(results)\n",
    "\n",
    "def same_char_eval(cache, cache_cached, i, j):\n",
    "    if known_dna[i] == dna_to_compare[j]:\n",
    "        if i == 0 or j == 0:\n",
    "            cache[j] = 1\n",
    "        else:\n",
    "            cache[j] = cache_cached[j-1]+1\n",
    "        if cache[j] > len(out):\n",
    "            out = known_dna[i-cache[j]+1:i+1]\n",
    "    else:\n",
    "        cache[j] = 0\n",
    "                \n",
    "def longest_substring(known_dna, metagenome):\n",
    "    max_from_each = []\n",
    "    for z in range(len(metagenome)):\n",
    "        out = \"\"\n",
    "        dna_to_compare = metagenome[z][1]\n",
    "\n",
    "        #cache = [0,0,0,0]\n",
    "        cache_cached = [0 for X in range(len(dna_to_compare))]\n",
    "        for i in range(len(known_dna)):\n",
    "            cache = [0 for Y in range(len(dna_to_compare))]\n",
    "            for j in range(len(dna_to_compare)):\n",
    "                if known_dna[i] == dna_to_compare[j]:\n",
    "                    if i == 0 or j == 0:\n",
    "                        cache[j] = 1\n",
    "                    else:\n",
    "                        cache[j] = cache_cached[j-1]+1\n",
    "                    if cache[j] > len(out):\n",
    "                        out = known_dna[i-cache[j]+1:i+1]\n",
    "                else:\n",
    "                    cache[j] = 0\n",
    "    #             print(cache)\n",
    "            cache_cached = cache\n",
    "    #         print(cache_cached, \"ca\")\n",
    "        print(len(out))\n",
    "        max_from_each.append(out)\n",
    "\n",
    "    return max(max_from_each, key = len)"
   ]
  },
  {
   "cell_type": "code",
   "execution_count": null,
   "metadata": {},
   "outputs": [],
   "source": []
  },
  {
   "cell_type": "code",
   "execution_count": 25,
   "metadata": {},
   "outputs": [
    {
     "name": "stdout",
     "output_type": "stream",
     "text": [
      "CPU times: user 24 µs, sys: 66 µs, total: 90 µs\n",
      "Wall time: 102 µs\n"
     ]
    },
    {
     "data": {
      "text/plain": [
       "'ABA'"
      ]
     },
     "execution_count": 25,
     "metadata": {},
     "output_type": "execute_result"
    }
   ],
   "source": [
    "strA = 'ABAB'\n",
    "strB = 'BABA'\n",
    "%time longest_substring(strA, strB)"
   ]
  },
  {
   "cell_type": "code",
   "execution_count": 26,
   "metadata": {},
   "outputs": [],
   "source": [
    "from load import load_metagenome\n",
    "from load import load_nitrogenase_seq\n",
    "metagenome = load_metagenome()\n",
    "nitrogenase = load_nitrogenase_seq().replace(\"\\n\",\"\")"
   ]
  },
  {
   "cell_type": "code",
   "execution_count": null,
   "metadata": {},
   "outputs": [],
   "source": [
    "nitrogenase"
   ]
  },
  {
   "cell_type": "code",
   "execution_count": 29,
   "metadata": {},
   "outputs": [
    {
     "ename": "SyntaxError",
     "evalue": "invalid syntax (<ipython-input-29-8212471f8ff2>, line 1)",
     "output_type": "error",
     "traceback": [
      "\u001b[0;36m  File \u001b[0;32m\"<ipython-input-29-8212471f8ff2>\"\u001b[0;36m, line \u001b[0;32m1\u001b[0m\n\u001b[0;31m    metagenome[][1]\u001b[0m\n\u001b[0m               ^\u001b[0m\n\u001b[0;31mSyntaxError\u001b[0m\u001b[0;31m:\u001b[0m invalid syntax\n"
     ]
    }
   ],
   "source": [
    "metagenome[][1]"
   ]
  },
  {
   "cell_type": "code",
   "execution_count": 37,
   "metadata": {
    "scrolled": true
   },
   "outputs": [
    {
     "name": "stdout",
     "output_type": "stream",
     "text": [
      "10\n",
      "10\n",
      "10\n",
      "10\n",
      "11\n",
      "10\n",
      "14\n",
      "11\n",
      "13\n",
      "11\n",
      "15\n",
      "14\n"
     ]
    },
    {
     "ename": "KeyboardInterrupt",
     "evalue": "",
     "output_type": "error",
     "traceback": [
      "\u001b[0;31m---------------------------------------------------------------------------\u001b[0m",
      "\u001b[0;31mKeyboardInterrupt\u001b[0m                         Traceback (most recent call last)",
      "\u001b[0;32m<ipython-input-37-40f79a3d3e94>\u001b[0m in \u001b[0;36m<module>\u001b[0;34m()\u001b[0m\n\u001b[0;32m----> 1\u001b[0;31m \u001b[0mlong_common\u001b[0m \u001b[0;34m=\u001b[0m \u001b[0mlongest_substring\u001b[0m\u001b[0;34m(\u001b[0m\u001b[0mnitrogenase\u001b[0m\u001b[0;34m,\u001b[0m \u001b[0mmetagenome\u001b[0m\u001b[0;34m)\u001b[0m\u001b[0;34m\u001b[0m\u001b[0m\n\u001b[0m\u001b[1;32m      2\u001b[0m \u001b[0mget_ipython\u001b[0m\u001b[0;34m(\u001b[0m\u001b[0;34m)\u001b[0m\u001b[0;34m.\u001b[0m\u001b[0mmagic\u001b[0m\u001b[0;34m(\u001b[0m\u001b[0;34m'time long_common'\u001b[0m\u001b[0;34m)\u001b[0m\u001b[0;34m\u001b[0m\u001b[0m\n",
      "\u001b[0;32m<ipython-input-36-e0f737fb2070>\u001b[0m in \u001b[0;36mlongest_substring\u001b[0;34m(known_dna, metagenome)\u001b[0m\n\u001b[1;32m      9\u001b[0m         \u001b[0;32mfor\u001b[0m \u001b[0mi\u001b[0m \u001b[0;32min\u001b[0m \u001b[0mrange\u001b[0m\u001b[0;34m(\u001b[0m\u001b[0mlen\u001b[0m\u001b[0;34m(\u001b[0m\u001b[0mknown_dna\u001b[0m\u001b[0;34m)\u001b[0m\u001b[0;34m)\u001b[0m\u001b[0;34m:\u001b[0m\u001b[0;34m\u001b[0m\u001b[0m\n\u001b[1;32m     10\u001b[0m             \u001b[0mcache\u001b[0m \u001b[0;34m=\u001b[0m \u001b[0;34m[\u001b[0m\u001b[0;36m0\u001b[0m \u001b[0;32mfor\u001b[0m \u001b[0mY\u001b[0m \u001b[0;32min\u001b[0m \u001b[0mrange\u001b[0m\u001b[0;34m(\u001b[0m\u001b[0mlen\u001b[0m\u001b[0;34m(\u001b[0m\u001b[0mdna_to_compare\u001b[0m\u001b[0;34m)\u001b[0m\u001b[0;34m)\u001b[0m\u001b[0;34m]\u001b[0m\u001b[0;34m\u001b[0m\u001b[0m\n\u001b[0;32m---> 11\u001b[0;31m             \u001b[0;32mfor\u001b[0m \u001b[0mj\u001b[0m \u001b[0;32min\u001b[0m \u001b[0mrange\u001b[0m\u001b[0;34m(\u001b[0m\u001b[0mlen\u001b[0m\u001b[0;34m(\u001b[0m\u001b[0mdna_to_compare\u001b[0m\u001b[0;34m)\u001b[0m\u001b[0;34m)\u001b[0m\u001b[0;34m:\u001b[0m\u001b[0;34m\u001b[0m\u001b[0m\n\u001b[0m\u001b[1;32m     12\u001b[0m                 \u001b[0;32mif\u001b[0m \u001b[0mknown_dna\u001b[0m\u001b[0;34m[\u001b[0m\u001b[0mi\u001b[0m\u001b[0;34m]\u001b[0m \u001b[0;34m==\u001b[0m \u001b[0mdna_to_compare\u001b[0m\u001b[0;34m[\u001b[0m\u001b[0mj\u001b[0m\u001b[0;34m]\u001b[0m\u001b[0;34m:\u001b[0m\u001b[0;34m\u001b[0m\u001b[0m\n\u001b[1;32m     13\u001b[0m                     \u001b[0;32mif\u001b[0m \u001b[0mi\u001b[0m \u001b[0;34m==\u001b[0m \u001b[0;36m0\u001b[0m \u001b[0;32mor\u001b[0m \u001b[0mj\u001b[0m \u001b[0;34m==\u001b[0m \u001b[0;36m0\u001b[0m\u001b[0;34m:\u001b[0m\u001b[0;34m\u001b[0m\u001b[0m\n",
      "\u001b[0;31mKeyboardInterrupt\u001b[0m: "
     ]
    }
   ],
   "source": [
    "long_common = longest_substring(nitrogenase, metagenome)\n",
    "%time long_common"
   ]
  },
  {
   "cell_type": "code",
   "execution_count": null,
   "metadata": {},
   "outputs": [],
   "source": [
    "len(long_common)"
   ]
  },
  {
   "cell_type": "code",
   "execution_count": null,
   "metadata": {},
   "outputs": [],
   "source": [
    "metagenome[10][1]"
   ]
  },
  {
   "cell_type": "code",
   "execution_count": null,
   "metadata": {},
   "outputs": [],
   "source": [
    "def longest_substring(strA, strB):\n",
    "    out = []\n",
    "    lenA = len(strA)\n",
    "    lenB = len(strB)\n",
    "    if lenA == 0 or lenB == 0:\n",
    "        return out\n",
    "    \n",
    "#     cache = [0,0,0,0]\n",
    "#     cache_cached = [0,0,0,0]\n",
    "    cache = [[0 for i in range(lenB)] for j in range(lenA)]\n",
    "    for i in range(len(strA)):\n",
    "        for j in range(len(strB)):\n",
    "            if strA[i] == strB[j]:\n",
    "                if i == 0 or j == 0:\n",
    "                    cache[i][j] = 1\n",
    "                else:\n",
    "                    cache[i][j] = cache[i-1][j-1]+1\n",
    "                if cache[i][j] > len(out):\n",
    "                    out = strA[i-cache[i][j]+1:i+1]\n",
    "#             else:\n",
    "#                 cache[j] = 0\n",
    "#         cache_cached = cache\n",
    "    return out"
   ]
  },
  {
   "cell_type": "code",
   "execution_count": null,
   "metadata": {},
   "outputs": [],
   "source": [
    "strA = 'ABAB'\n",
    "strB = 'BABA'\n",
    "longest_substring(strA, strB)"
   ]
  },
  {
   "cell_type": "code",
   "execution_count": null,
   "metadata": {},
   "outputs": [],
   "source": [
    "long_common = longest_substring(nitrogenase, metagenome[0][1])\n",
    "long_common"
   ]
  },
  {
   "cell_type": "code",
   "execution_count": null,
   "metadata": {},
   "outputs": [],
   "source": [
    "# To Do:\n",
    "# Write the longest substring function with multi processing"
   ]
  },
  {
   "cell_type": "code",
   "execution_count": null,
   "metadata": {},
   "outputs": [],
   "source": [
    "cache = [[],[]] \n",
    "cache[1][2] = \"bababa\""
   ]
  },
  {
   "cell_type": "code",
   "execution_count": null,
   "metadata": {},
   "outputs": [],
   "source": [
    "cache = [[0 for i in range(5)] for j in range(5)]"
   ]
  },
  {
   "cell_type": "code",
   "execution_count": null,
   "metadata": {},
   "outputs": [],
   "source": [
    "cache"
   ]
  },
  {
   "cell_type": "code",
   "execution_count": null,
   "metadata": {},
   "outputs": [],
   "source": []
  }
 ],
 "metadata": {
  "kernelspec": {
   "display_name": "Python 3",
   "language": "python",
   "name": "python3"
  },
  "language_info": {
   "codemirror_mode": {
    "name": "ipython",
    "version": 3
   },
   "file_extension": ".py",
   "mimetype": "text/x-python",
   "name": "python",
   "nbconvert_exporter": "python",
   "pygments_lexer": "ipython3",
   "version": "3.6.3"
  }
 },
 "nbformat": 4,
 "nbformat_minor": 2
}
